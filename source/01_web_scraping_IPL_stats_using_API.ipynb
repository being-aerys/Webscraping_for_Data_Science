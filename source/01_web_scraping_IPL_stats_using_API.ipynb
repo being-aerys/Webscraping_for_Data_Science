{
 "cells": [
  {
   "attachments": {},
   "cell_type": "markdown",
   "metadata": {},
   "source": [
    "This notebook illustrates how to scrape data from the IPL statistics webpage about the highest scores in the 2023 season. This notebook is set up for educational and learning purpose only."
   ]
  },
  {
   "cell_type": "code",
   "execution_count": 1,
   "metadata": {},
   "outputs": [],
   "source": [
    "# !pip3 install requests\n",
    "# !pip3 install pandas"
   ]
  },
  {
   "cell_type": "code",
   "execution_count": 14,
   "metadata": {},
   "outputs": [],
   "source": [
    "import requests\n",
    "import os\n",
    "import pandas as pd\n",
    "import json"
   ]
  },
  {
   "attachments": {},
   "cell_type": "markdown",
   "metadata": {},
   "source": [
    "#### URL to retrieve the data from.\n",
    "To scrape data from a web page, the url corresponding to that webpage needs to located. However, just the web url of the webpage would not return the data since an api call needs to be made to that url. The url for the api call can be retrieved from the webpage inspection on the web browser. Entering that url on the browser returns the desired data. Going through the raw data on the browser should give enough understanding on how to retrieve that data as desired. "
   ]
  },
  {
   "cell_type": "code",
   "execution_count": 3,
   "metadata": {},
   "outputs": [],
   "source": [
    "api_url = \"https://ipl-stats-sports-mechanic.s3.ap-south-1.amazonaws.com/ipl/feeds/stats/107-toprunsscorers.js?callback=ontoprunsscorers&_=1688441636396\""
   ]
  },
  {
   "cell_type": "code",
   "execution_count": 4,
   "metadata": {},
   "outputs": [],
   "source": [
    "raw_scraped_text = requests.get(url=api_url).text"
   ]
  },
  {
   "cell_type": "code",
   "execution_count": 5,
   "metadata": {},
   "outputs": [
    {
     "data": {
      "text/plain": [
       "'API response starts with: ontoprunsscorers({\"t'"
      ]
     },
     "execution_count": 5,
     "metadata": {},
     "output_type": "execute_result"
    }
   ],
   "source": [
    "\"API response starts with: \" + raw_scraped_text[0:20]"
   ]
  },
  {
   "cell_type": "code",
   "execution_count": 6,
   "metadata": {},
   "outputs": [
    {
     "data": {
      "text/plain": [
       "'API response ends with: layerID\":\"5432\"}]});'"
      ]
     },
     "execution_count": 6,
     "metadata": {},
     "output_type": "execute_result"
    }
   ],
   "source": [
    "\"API response ends with: \" + raw_scraped_text[-20:]"
   ]
  },
  {
   "cell_type": "code",
   "execution_count": 7,
   "metadata": {},
   "outputs": [
    {
     "data": {
      "text/plain": [
       "138925"
      ]
     },
     "execution_count": 7,
     "metadata": {},
     "output_type": "execute_result"
    }
   ],
   "source": [
    "raw_scraped_text.__len__()"
   ]
  },
  {
   "attachments": {},
   "cell_type": "markdown",
   "metadata": {},
   "source": [
    "In most of the cases, the API response is a well-formatted json or xml document data. After inspection, in this case, directly converting the response data into a json object is not possible. However, for each player entry in the leaderboard data, the data starts with a json-formatted dictionary. We exploit this info here."
   ]
  },
  {
   "attachments": {},
   "cell_type": "markdown",
   "metadata": {},
   "source": [
    "#### Extract data."
   ]
  },
  {
   "cell_type": "code",
   "execution_count": 8,
   "metadata": {},
   "outputs": [
    {
     "data": {
      "text/plain": [
       "(36, 877)"
      ]
     },
     "execution_count": 8,
     "metadata": {},
     "output_type": "execute_result"
    }
   ],
   "source": [
    "# retrieve the positions of the first starting and ending braces\n",
    "# skip the undesired first opening curly brace.\n",
    "start_pos = raw_scraped_text.find(\"{\", 18)\n",
    "end_pos = raw_scraped_text.find(\"}\")\n",
    "start_pos, end_pos"
   ]
  },
  {
   "cell_type": "code",
   "execution_count": 9,
   "metadata": {},
   "outputs": [
    {
     "name": "stdout",
     "output_type": "stream",
     "text": [
      "166  records found.\n"
     ]
    }
   ],
   "source": [
    "records = []\n",
    "rank = 1\n",
    "while True:\n",
    "    # store the current record\n",
    "    records.append(\n",
    "        json.loads(raw_scraped_text[start_pos : end_pos + 1].strip(\",\").strip(\"]\"))\n",
    "    )\n",
    "    # find the positions of the starting and the closing braces for the next record\n",
    "    new_start_offset = raw_scraped_text[end_pos:].find(\"{\")\n",
    "    if new_start_offset == -1:\n",
    "        break\n",
    "    start_pos = new_start_offset + end_pos\n",
    "    end_pos = start_pos + raw_scraped_text[start_pos:].find(\"}\") + 1\n",
    "    rank += 1\n",
    "\n",
    "print(len(records), \" records found.\")"
   ]
  },
  {
   "cell_type": "code",
   "execution_count": 10,
   "metadata": {},
   "outputs": [
    {
     "data": {
      "text/plain": [
       "{'StrikerName': 'Shubman Gill',\n",
       " 'PlayerId': '62',\n",
       " 'Matches': '17',\n",
       " 'PlayerDOB': '0000-00-00',\n",
       " 'RightHandedBat': 'true',\n",
       " 'Nationality': 'Indian',\n",
       " 'TCompetitionID': '107',\n",
       " 'TStrikerID': '2019-100mb00000000062-8fa4884a17f311',\n",
       " 'TTeamID': '35',\n",
       " 'TeamCode': 'GT',\n",
       " 'TeamName': 'Gujarat Titans',\n",
       " 'CompetitionID': '107',\n",
       " 'TeamID': '35',\n",
       " 'StrikerID': '2019-100mb00000000062-8fa4884a17f311',\n",
       " 'Innings': '17',\n",
       " 'Extras': '33',\n",
       " 'TotalRuns': '890',\n",
       " 'Balls': '564',\n",
       " 'Dotballs': '150',\n",
       " 'StrikeRate': '157.80',\n",
       " 'DBPercent': '26.59',\n",
       " 'DBFreq': '3.76',\n",
       " 'BdryFreq': '4.77',\n",
       " 'BdryPercent': '60.44',\n",
       " 'RPSS': '2.14',\n",
       " 'ScoringBalls': '414',\n",
       " 'Ones': '244',\n",
       " 'Twos': '48',\n",
       " 'Threes': '4',\n",
       " 'Fours': '85',\n",
       " 'Sixes': '33',\n",
       " 'Outs': '15',\n",
       " 'NotOuts': '2',\n",
       " 'BattingAveragesss': '445.00',\n",
       " 'FiftyPlusRuns': '4',\n",
       " 'Centuries': '3',\n",
       " 'DoubleCenturies': '0',\n",
       " 'HighestScore': '129',\n",
       " 'BattingAverage': '59.33',\n",
       " 'Catches': '6',\n",
       " 'Stumpings': '0',\n",
       " 'ClientPlayerID': '3761'}"
      ]
     },
     "execution_count": 10,
     "metadata": {},
     "output_type": "execute_result"
    }
   ],
   "source": [
    "records[0]"
   ]
  },
  {
   "attachments": {},
   "cell_type": "markdown",
   "metadata": {},
   "source": [
    "#### Create a dataframe."
   ]
  },
  {
   "cell_type": "code",
   "execution_count": 11,
   "metadata": {},
   "outputs": [
    {
     "data": {
      "text/html": [
       "<div>\n",
       "<style scoped>\n",
       "    .dataframe tbody tr th:only-of-type {\n",
       "        vertical-align: middle;\n",
       "    }\n",
       "\n",
       "    .dataframe tbody tr th {\n",
       "        vertical-align: top;\n",
       "    }\n",
       "\n",
       "    .dataframe thead th {\n",
       "        text-align: right;\n",
       "    }\n",
       "</style>\n",
       "<table border=\"1\" class=\"dataframe\">\n",
       "  <thead>\n",
       "    <tr style=\"text-align: right;\">\n",
       "      <th></th>\n",
       "      <th>StrikerName</th>\n",
       "      <th>PlayerId</th>\n",
       "      <th>Matches</th>\n",
       "      <th>PlayerDOB</th>\n",
       "      <th>RightHandedBat</th>\n",
       "      <th>Nationality</th>\n",
       "      <th>TCompetitionID</th>\n",
       "      <th>TStrikerID</th>\n",
       "      <th>TTeamID</th>\n",
       "      <th>TeamCode</th>\n",
       "      <th>...</th>\n",
       "      <th>NotOuts</th>\n",
       "      <th>BattingAveragesss</th>\n",
       "      <th>FiftyPlusRuns</th>\n",
       "      <th>Centuries</th>\n",
       "      <th>DoubleCenturies</th>\n",
       "      <th>HighestScore</th>\n",
       "      <th>BattingAverage</th>\n",
       "      <th>Catches</th>\n",
       "      <th>Stumpings</th>\n",
       "      <th>ClientPlayerID</th>\n",
       "    </tr>\n",
       "  </thead>\n",
       "  <tbody>\n",
       "    <tr>\n",
       "      <th>0</th>\n",
       "      <td>Shubman Gill</td>\n",
       "      <td>62</td>\n",
       "      <td>17</td>\n",
       "      <td>0000-00-00</td>\n",
       "      <td>true</td>\n",
       "      <td>Indian</td>\n",
       "      <td>107</td>\n",
       "      <td>2019-100mb00000000062-8fa4884a17f311</td>\n",
       "      <td>35</td>\n",
       "      <td>GT</td>\n",
       "      <td>...</td>\n",
       "      <td>2</td>\n",
       "      <td>445.00</td>\n",
       "      <td>4</td>\n",
       "      <td>3</td>\n",
       "      <td>0</td>\n",
       "      <td>129</td>\n",
       "      <td>59.33</td>\n",
       "      <td>6</td>\n",
       "      <td>0</td>\n",
       "      <td>3761</td>\n",
       "    </tr>\n",
       "    <tr>\n",
       "      <th>1</th>\n",
       "      <td>Faf Du Plessis</td>\n",
       "      <td>94</td>\n",
       "      <td>14</td>\n",
       "      <td>0000-00-00</td>\n",
       "      <td>true</td>\n",
       "      <td>Overseas</td>\n",
       "      <td>107</td>\n",
       "      <td>2019-100mb00000000094-1e8fa14543ee11</td>\n",
       "      <td>19</td>\n",
       "      <td>RCB</td>\n",
       "      <td>...</td>\n",
       "      <td>1</td>\n",
       "      <td>730.00</td>\n",
       "      <td>8</td>\n",
       "      <td>0</td>\n",
       "      <td>0</td>\n",
       "      <td>84</td>\n",
       "      <td>56.15</td>\n",
       "      <td>3</td>\n",
       "      <td>0</td>\n",
       "      <td>24</td>\n",
       "    </tr>\n",
       "  </tbody>\n",
       "</table>\n",
       "<p>2 rows × 42 columns</p>\n",
       "</div>"
      ],
      "text/plain": [
       "      StrikerName PlayerId Matches   PlayerDOB RightHandedBat Nationality  \\\n",
       "0    Shubman Gill       62      17  0000-00-00           true      Indian   \n",
       "1  Faf Du Plessis       94      14  0000-00-00           true    Overseas   \n",
       "\n",
       "  TCompetitionID                            TStrikerID TTeamID TeamCode  ...  \\\n",
       "0            107  2019-100mb00000000062-8fa4884a17f311      35       GT  ...   \n",
       "1            107  2019-100mb00000000094-1e8fa14543ee11      19      RCB  ...   \n",
       "\n",
       "  NotOuts BattingAveragesss FiftyPlusRuns Centuries DoubleCenturies  \\\n",
       "0       2            445.00             4         3               0   \n",
       "1       1            730.00             8         0               0   \n",
       "\n",
       "  HighestScore BattingAverage Catches Stumpings ClientPlayerID  \n",
       "0          129          59.33       6         0           3761  \n",
       "1           84          56.15       3         0             24  \n",
       "\n",
       "[2 rows x 42 columns]"
      ]
     },
     "execution_count": 11,
     "metadata": {},
     "output_type": "execute_result"
    }
   ],
   "source": [
    "highest_scorers_df = pd.DataFrame(records)\n",
    "highest_scorers_df.head(2)"
   ]
  },
  {
   "cell_type": "code",
   "execution_count": 12,
   "metadata": {},
   "outputs": [
    {
     "data": {
      "text/html": [
       "<div>\n",
       "<style scoped>\n",
       "    .dataframe tbody tr th:only-of-type {\n",
       "        vertical-align: middle;\n",
       "    }\n",
       "\n",
       "    .dataframe tbody tr th {\n",
       "        vertical-align: top;\n",
       "    }\n",
       "\n",
       "    .dataframe thead th {\n",
       "        text-align: right;\n",
       "    }\n",
       "</style>\n",
       "<table border=\"1\" class=\"dataframe\">\n",
       "  <thead>\n",
       "    <tr style=\"text-align: right;\">\n",
       "      <th></th>\n",
       "      <th>StrikerName</th>\n",
       "      <th>PlayerId</th>\n",
       "      <th>Matches</th>\n",
       "      <th>Nationality</th>\n",
       "      <th>TeamName</th>\n",
       "      <th>Innings</th>\n",
       "      <th>TotalRuns</th>\n",
       "      <th>Balls</th>\n",
       "      <th>Dotballs</th>\n",
       "      <th>StrikeRate</th>\n",
       "      <th>...</th>\n",
       "      <th>Outs</th>\n",
       "      <th>NotOuts</th>\n",
       "      <th>BattingAveragesss</th>\n",
       "      <th>FiftyPlusRuns</th>\n",
       "      <th>Centuries</th>\n",
       "      <th>DoubleCenturies</th>\n",
       "      <th>HighestScore</th>\n",
       "      <th>BattingAverage</th>\n",
       "      <th>Catches</th>\n",
       "      <th>Stumpings</th>\n",
       "    </tr>\n",
       "  </thead>\n",
       "  <tbody>\n",
       "    <tr>\n",
       "      <th>0</th>\n",
       "      <td>Shubman Gill</td>\n",
       "      <td>62</td>\n",
       "      <td>17</td>\n",
       "      <td>Indian</td>\n",
       "      <td>Gujarat Titans</td>\n",
       "      <td>17</td>\n",
       "      <td>890</td>\n",
       "      <td>564</td>\n",
       "      <td>150</td>\n",
       "      <td>157.80</td>\n",
       "      <td>...</td>\n",
       "      <td>15</td>\n",
       "      <td>2</td>\n",
       "      <td>445.00</td>\n",
       "      <td>4</td>\n",
       "      <td>3</td>\n",
       "      <td>0</td>\n",
       "      <td>129</td>\n",
       "      <td>59.33</td>\n",
       "      <td>6</td>\n",
       "      <td>0</td>\n",
       "    </tr>\n",
       "    <tr>\n",
       "      <th>1</th>\n",
       "      <td>Faf Du Plessis</td>\n",
       "      <td>94</td>\n",
       "      <td>14</td>\n",
       "      <td>Overseas</td>\n",
       "      <td>Royal Challengers Bangalore</td>\n",
       "      <td>14</td>\n",
       "      <td>730</td>\n",
       "      <td>475</td>\n",
       "      <td>133</td>\n",
       "      <td>153.68</td>\n",
       "      <td>...</td>\n",
       "      <td>13</td>\n",
       "      <td>1</td>\n",
       "      <td>730.00</td>\n",
       "      <td>8</td>\n",
       "      <td>0</td>\n",
       "      <td>0</td>\n",
       "      <td>84</td>\n",
       "      <td>56.15</td>\n",
       "      <td>3</td>\n",
       "      <td>0</td>\n",
       "    </tr>\n",
       "  </tbody>\n",
       "</table>\n",
       "<p>2 rows × 28 columns</p>\n",
       "</div>"
      ],
      "text/plain": [
       "      StrikerName PlayerId Matches Nationality                     TeamName  \\\n",
       "0    Shubman Gill       62      17      Indian               Gujarat Titans   \n",
       "1  Faf Du Plessis       94      14    Overseas  Royal Challengers Bangalore   \n",
       "\n",
       "  Innings TotalRuns Balls Dotballs StrikeRate  ... Outs NotOuts  \\\n",
       "0      17       890   564      150     157.80  ...   15       2   \n",
       "1      14       730   475      133     153.68  ...   13       1   \n",
       "\n",
       "  BattingAveragesss FiftyPlusRuns Centuries DoubleCenturies HighestScore  \\\n",
       "0            445.00             4         3               0          129   \n",
       "1            730.00             8         0               0           84   \n",
       "\n",
       "  BattingAverage Catches Stumpings  \n",
       "0          59.33       6         0  \n",
       "1          56.15       3         0  \n",
       "\n",
       "[2 rows x 28 columns]"
      ]
     },
     "execution_count": 12,
     "metadata": {},
     "output_type": "execute_result"
    }
   ],
   "source": [
    "# retain only the desired fields, here, related to batting\n",
    "cols_to_retain = [\n",
    "    \"StrikerName\",\n",
    "    \"PlayerId\",\n",
    "    \"Matches\",\n",
    "    \"Nationality\",\n",
    "    \"TeamName\",\n",
    "    \"Innings\",\n",
    "    \"TotalRuns\",\n",
    "    \"Balls\",\n",
    "    \"Dotballs\",\n",
    "    \"StrikeRate\",\n",
    "    \"DBPercent\",\n",
    "    \"BdryFreq\",\n",
    "    \"BdryPercent\",\n",
    "    \"Ones\",\n",
    "    \"Twos\",\n",
    "    \"Threes\",\n",
    "    \"Fours\",\n",
    "    \"Sixes\",\n",
    "    \"Outs\",\n",
    "    \"NotOuts\",\n",
    "    \"BattingAveragesss\",\n",
    "    \"FiftyPlusRuns\",\n",
    "    \"Centuries\",\n",
    "    \"DoubleCenturies\",\n",
    "    \"HighestScore\",\n",
    "    \"BattingAverage\",\n",
    "    \"Catches\",\n",
    "    \"Stumpings\",\n",
    "]\n",
    "\n",
    "highest_scorers_df = highest_scorers_df[cols_to_retain]\n",
    "highest_scorers_df.head(2)"
   ]
  },
  {
   "cell_type": "code",
   "execution_count": 13,
   "metadata": {},
   "outputs": [
    {
     "data": {
      "text/plain": [
       "166"
      ]
     },
     "execution_count": 13,
     "metadata": {},
     "output_type": "execute_result"
    }
   ],
   "source": [
    "len(highest_scorers_df)"
   ]
  },
  {
   "attachments": {},
   "cell_type": "markdown",
   "metadata": {},
   "source": [
    "#### Store the data in the desired dir."
   ]
  },
  {
   "cell_type": "code",
   "execution_count": 15,
   "metadata": {},
   "outputs": [
    {
     "name": "stdout",
     "output_type": "stream",
     "text": [
      "Data successfully saved.\n"
     ]
    }
   ],
   "source": [
    "filename = \"ipl_highest_scorers_2023.xlsx\"\n",
    "# create dir\n",
    "relative_dir_path = \"../data\"\n",
    "if not os.path.exists(relative_dir_path):\n",
    "    os.mkdir(relative_dir_path)\n",
    "# store the data\n",
    "highest_scorers_df.to_csv(relative_dir_path + \"/\" + filename)\n",
    "print(\"Data successfully saved.\")"
   ]
  },
  {
   "cell_type": "code",
   "execution_count": null,
   "metadata": {},
   "outputs": [],
   "source": []
  }
 ],
 "metadata": {
  "kernelspec": {
   "display_name": ".venv",
   "language": "python",
   "name": "python3"
  },
  "language_info": {
   "codemirror_mode": {
    "name": "ipython",
    "version": 3
   },
   "file_extension": ".py",
   "mimetype": "text/x-python",
   "name": "python",
   "nbconvert_exporter": "python",
   "pygments_lexer": "ipython3",
   "version": "3.10.6"
  },
  "orig_nbformat": 4
 },
 "nbformat": 4,
 "nbformat_minor": 2
}
